{
 "cells": [
  {
   "cell_type": "markdown",
   "metadata": {},
   "source": [
    "<h3>This file is an example of an Employee encrypting their salary using Homomorphic Encryption and subsequently decrypting it after the salary has been processed by the HR Department.</h3>"
   ]
  },
  {
   "cell_type": "markdown",
   "metadata": {},
   "source": [
    "<h3>Importing Libraries</h3>"
   ]
  },
  {
   "cell_type": "code",
   "execution_count": null,
   "metadata": {},
   "outputs": [],
   "source": [
    "%pip install tenseal\n",
    "import tenseal as ts\n",
    "import readerandwriter"
   ]
  },
  {
   "cell_type": "markdown",
   "metadata": {},
   "source": [
    "<h3>Generate Private & Public Keys</h3>"
   ]
  },
  {
   "cell_type": "code",
   "execution_count": null,
   "metadata": {},
   "outputs": [],
   "source": [
    "context = ts.context(ts.SCHEME_TYPE.CKKS,\n",
    "                        poly_modulus_degree=8192,\n",
    "                        coeff_mod_bit_sizes=[60, 40, 40, 60])\n",
    "context.generate_galois_keys()\n",
    "context.global_scale = 2**40\n",
    "secret_context = context.serialize(save_secret_key=True)\n",
    "readerandwriter.write_data(f\"../keys/secret.txt\", secret_context)\n",
    "\n",
    "\n",
    "context.make_context_public()\n",
    "public_context = context.serialize()\n",
    "readerandwriter.write_data(f\"../keys/public.txt\", public_context)"
   ]
  },
  {
   "cell_type": "markdown",
   "metadata": {},
   "source": [
    "<h3>Encrypting the Salary Data</h3>"
   ]
  },
  {
   "cell_type": "code",
   "execution_count": null,
   "metadata": {},
   "outputs": [],
   "source": [
    "# Load the context\n",
    "loaded_context = ts.context_from(readerandwriter.read_data(f\"../keys/secret.txt\"))\n",
    "\n",
    "salary = [1000]\n",
    "salary_encrypted = ts.ckks_vector(loaded_context, salary)\n",
    "readerandwriter.write_data(\"../output/salary_encrypted.txt\", salary_encrypted.serialize())"
   ]
  },
  {
   "cell_type": "markdown",
   "metadata": {},
   "source": [
    "<h3>Decrypting the new Salary Data</h3>"
   ]
  },
  {
   "cell_type": "code",
   "execution_count": null,
   "metadata": {},
   "outputs": [],
   "source": [
    "m_proto = readerandwriter.read_data(\"../output/salary_new_encrypted.txt\")\n",
    "m = ts.lazy_ckks_vector_from(m_proto)\n",
    "m.link_context(loaded_context)\n",
    "round(m.decrypt()[0], 2)"
   ]
  }
 ],
 "metadata": {
  "kernelspec": {
   "display_name": "Python 3",
   "language": "python",
   "name": "python3"
  },
  "language_info": {
   "codemirror_mode": {
    "name": "ipython",
    "version": 3
   },
   "file_extension": ".py",
   "mimetype": "text/x-python",
   "name": "python",
   "nbconvert_exporter": "python",
   "pygments_lexer": "ipython3",
   "version": "3.10.13"
  }
 },
 "nbformat": 4,
 "nbformat_minor": 2
}
