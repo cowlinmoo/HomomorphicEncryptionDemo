{
 "cells": [
  {
   "cell_type": "markdown",
   "metadata": {},
   "source": [
    "<h3>Importing Libraries</h3>"
   ]
  },
  {
   "cell_type": "code",
   "execution_count": 6,
   "metadata": {},
   "outputs": [],
   "source": [
    "%pip install tenseal\n",
    "import tenseal as ts\n",
    "import readerandwriter"
   ]
  },
  {
   "cell_type": "markdown",
   "metadata": {},
   "source": [
    "<h3>Retrieving the Employee's Public Key</h3>"
   ]
  },
  {
   "cell_type": "code",
   "execution_count": 7,
   "metadata": {},
   "outputs": [],
   "source": [
    "context = ts.context_from(readerandwriter.read_data(\"../keys/public.txt\"))"
   ]
  },
  {
   "cell_type": "markdown",
   "metadata": {},
   "source": [
    "<h3>Retrieving the Employee's Encrypted Salary Data</h3>"
   ]
  },
  {
   "cell_type": "code",
   "execution_count": 8,
   "metadata": {},
   "outputs": [],
   "source": [
    "salary_proto = readerandwriter.read_data(\"../output/salary_encrypted.txt\")\n",
    "salary_encrypted = ts.lazy_ckks_vector_from(salary_proto)\n",
    "salary_encrypted.link_context(context)"
   ]
  },
  {
   "cell_type": "markdown",
   "metadata": {},
   "source": [
    "<h3>Performing the Salary Increment and Bonus addition</h3>"
   ]
  },
  {
   "cell_type": "code",
   "execution_count": 9,
   "metadata": {},
   "outputs": [],
   "source": [
    "# Increasing the salary by 10%\n",
    "wage_increase_rate_plain = ts.plain_tensor([1.1])\n",
    "# adding a bonus by 300 dollars\n",
    "bonus_increase_rate_plain = ts.plain_tensor([300])\n",
    "\n",
    "salary_new_encrypted = (salary_encrypted * wage_increase_rate_plain\n",
    "                        +  bonus_increase_rate_plain)"
   ]
  },
  {
   "cell_type": "markdown",
   "metadata": {},
   "source": [
    "<h3>Saving the new Encrypted Salary Data<h3>"
   ]
  },
  {
   "cell_type": "code",
   "execution_count": 10,
   "metadata": {},
   "outputs": [],
   "source": [
    "readerandwriter.write_data(\"../output/salary_new_encrypted.txt\", salary_new_encrypted.serialize())"
   ]
  }
 ],
 "metadata": {
  "kernelspec": {
   "display_name": "Python 3",
   "language": "python",
   "name": "python3"
  },
  "language_info": {
   "codemirror_mode": {
    "name": "ipython",
    "version": 3
   },
   "file_extension": ".py",
   "mimetype": "text/x-python",
   "name": "python",
   "nbconvert_exporter": "python",
   "pygments_lexer": "ipython3",
   "version": "3.10.13"
  }
 },
 "nbformat": 4,
 "nbformat_minor": 2
}
